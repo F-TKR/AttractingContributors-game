{
  "cells": [
    {
      "cell_type": "markdown",
      "metadata": {
        "id": "view-in-github",
        "colab_type": "text"
      },
      "source": [
        "<a href=\"https://colab.research.google.com/github/F-TKR/AttractingContributors-game/blob/main/cartoon.ipynb\" target=\"_parent\"><img src=\"https://colab.research.google.com/assets/colab-badge.svg\" alt=\"Open In Colab\"/></a>"
      ]
    },
    {
      "cell_type": "code",
      "execution_count": 1,
      "metadata": {
        "colab": {
          "base_uri": "https://localhost:8080/"
        },
        "id": "XwParugmmyye",
        "outputId": "3309eb86-208c-4317-c11e-986080b3227e"
      },
      "outputs": [
        {
          "output_type": "stream",
          "name": "stdout",
          "text": [
            "nvcc: NVIDIA (R) Cuda compiler driver\n",
            "Copyright (c) 2005-2020 NVIDIA Corporation\n",
            "Built on Mon_Oct_12_20:09:46_PDT_2020\n",
            "Cuda compilation tools, release 11.1, V11.1.105\n",
            "Build cuda_11.1.TC455_06.29190527_0\n"
          ]
        }
      ],
      "source": [
        "!nvcc --version"
      ]
    },
    {
      "cell_type": "code",
      "source": [
        "from google.colab import drive\n",
        "drive.mount('/content/drive')"
      ],
      "metadata": {
        "id": "RCCl14JknyiY"
      },
      "execution_count": null,
      "outputs": []
    },
    {
      "cell_type": "code",
      "execution_count": 2,
      "metadata": {
        "colab": {
          "base_uri": "https://localhost:8080/"
        },
        "id": "-wFHllrfQgL-",
        "outputId": "1702c14e-04b1-4e5a-9cce-693705d704c3"
      },
      "outputs": [
        {
          "output_type": "stream",
          "name": "stdout",
          "text": [
            "Cloning into 'White-box-Cartoonization'...\n",
            "remote: Enumerating objects: 199, done.\u001b[K\n",
            "remote: Total 199 (delta 0), reused 0 (delta 0), pack-reused 199\u001b[K\n",
            "Receiving objects: 100% (199/199), 44.60 MiB | 9.77 MiB/s, done.\n",
            "Resolving deltas: 100% (74/74), done.\n"
          ]
        }
      ],
      "source": [
        "!git clone https://github.com/SystemErrorWang/White-box-Cartoonization.git"
      ]
    },
    {
      "cell_type": "code",
      "execution_count": null,
      "metadata": {
        "id": "ICh_1fnhCEbZ"
      },
      "outputs": [],
      "source": [
        "!pip install -r /content/requirements.txt"
      ]
    },
    {
      "cell_type": "code",
      "source": [
        ""
      ],
      "metadata": {
        "id": "rRSJv-0zg3WO"
      },
      "execution_count": 3,
      "outputs": []
    },
    {
      "cell_type": "code",
      "execution_count": 48,
      "metadata": {
        "colab": {
          "base_uri": "https://localhost:8080/"
        },
        "id": "1wdTensEq2yP",
        "outputId": "012fc2e8-a1f0-4b26-f998-66f60c0301b3"
      },
      "outputs": [
        {
          "output_type": "stream",
          "name": "stdout",
          "text": [
            "/content/White-box-Cartoonization/train_code\n"
          ]
        }
      ],
      "source": [
        "%cd /content/White-box-Cartoonization/train_code/"
      ]
    },
    {
      "cell_type": "code",
      "execution_count": 5,
      "metadata": {
        "id": "zzN0WLMYDMuA"
      },
      "outputs": [],
      "source": [
        "%mkdir dataset"
      ]
    },
    {
      "cell_type": "code",
      "execution_count": 6,
      "metadata": {
        "id": "_LwI4ZccI5_i",
        "colab": {
          "base_uri": "https://localhost:8080/"
        },
        "outputId": "228e3768-24fc-4403-8beb-dfbe2fb60f29"
      },
      "outputs": [
        {
          "output_type": "stream",
          "name": "stdout",
          "text": [
            "cp: cannot stat '/content/drive/MyDrive/PBL/dataset.zip': No such file or directory\n"
          ]
        }
      ],
      "source": [
        "cp \"/content/drive/MyDrive/PBL/dataset.zip\" \".\""
      ]
    },
    {
      "cell_type": "code",
      "execution_count": null,
      "metadata": {
        "id": "WHW4dt9elNtS"
      },
      "outputs": [],
      "source": [
        "!unzip -o /content/dataset.zip"
      ]
    },
    {
      "cell_type": "code",
      "execution_count": null,
      "metadata": {
        "id": "M2TQ5wROFxiU"
      },
      "outputs": [],
      "source": [
        "!python train.py "
      ]
    },
    {
      "cell_type": "code",
      "source": [
        "%cd /content/White-box-Cartoonization/test_code"
      ],
      "metadata": {
        "colab": {
          "base_uri": "https://localhost:8080/"
        },
        "id": "AFeMzaIX6fYH",
        "outputId": "9f649110-9a79-40f2-8608-4f6c4bdee801"
      },
      "execution_count": 42,
      "outputs": [
        {
          "output_type": "stream",
          "name": "stdout",
          "text": [
            "/content/White-box-Cartoonization/test_code\n"
          ]
        }
      ]
    },
    {
      "cell_type": "code",
      "source": [
        "!python cartoonize.py"
      ],
      "metadata": {
        "id": "HomEj3hA6kQG"
      },
      "execution_count": null,
      "outputs": []
    }
  ],
  "metadata": {
    "accelerator": "GPU",
    "colab": {
      "name": "cartoon",
      "provenance": [],
      "collapsed_sections": [],
      "include_colab_link": true
    },
    "kernelspec": {
      "display_name": "Python 3",
      "name": "python3"
    },
    "language_info": {
      "name": "python"
    }
  },
  "nbformat": 4,
  "nbformat_minor": 0
}